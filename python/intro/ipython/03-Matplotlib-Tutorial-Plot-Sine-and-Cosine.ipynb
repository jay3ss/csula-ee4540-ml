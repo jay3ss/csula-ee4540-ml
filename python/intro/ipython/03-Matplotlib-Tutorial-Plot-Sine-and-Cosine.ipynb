{
 "cells": [
  {
   "cell_type": "markdown",
   "metadata": {},
   "source": [
    "Reference: https://www.labri.fr/perso/nrougier/teaching/matplotlib/"
   ]
  },
  {
   "cell_type": "markdown",
   "metadata": {},
   "source": [
    "**matplotlib** is probably the single most used Python package for 2D-graphics. It provides both a very quick way to visualize data from Python and publication-quality figures in many formats. \n",
    "\n",
    "We are going to explore matplotlib in interactive mode covering most common cases."
   ]
  },
  {
   "cell_type": "code",
   "execution_count": null,
   "metadata": {},
   "outputs": [],
   "source": [
    "import pandas as pd\n",
    "import numpy as np\n",
    "\n",
    "import matplotlib.pyplot as plt\n",
    "%matplotlib inline"
   ]
  },
  {
   "cell_type": "markdown",
   "metadata": {},
   "source": [
    "### A Simple Plot\n",
    "\n",
    "In this section, we want to draw the cosine and sine functions on the same plot. Starting from the default settings, we'll enrich the figure step by step to make it nicer.\n",
    "\n",
    "First step is to get the data for the sine and cosine functions:"
   ]
  },
  {
   "cell_type": "code",
   "execution_count": null,
   "metadata": {},
   "outputs": [],
   "source": [
    "X = np.linspace(-np.pi, np.pi, 256,endpoint=True)\n",
    "C,S = np.cos(X), np.sin(X)"
   ]
  },
  {
   "cell_type": "markdown",
   "metadata": {},
   "source": [
    "X is now a numpy array with 256 values ranging from -π to +π (included). C is the cosine (256 values) and S is the sine (256 values)."
   ]
  },
  {
   "cell_type": "code",
   "execution_count": null,
   "metadata": {},
   "outputs": [],
   "source": [
    "plt.plot(X,C)\n",
    "plt.plot(X,S)\n",
    "\n",
    "plt.show()"
   ]
  },
  {
   "cell_type": "markdown",
   "metadata": {},
   "source": [
    "### Changing Colors and Line Widths\n",
    "\n",
    "First step, we want to have the cosine in blue and the sine in red and a slightly thicker line for both of them. We'll also slightly alter the figure size to make it more horizontal."
   ]
  },
  {
   "cell_type": "code",
   "execution_count": null,
   "metadata": {},
   "outputs": [],
   "source": [
    "# default figure size is (8,6), linewidth is 1.0\n",
    "\n",
    "plt.figure(figsize=(10,6), dpi=80)\n",
    "plt.plot(X, C, color=\"blue\", linewidth=2.5, linestyle=\"-\")\n",
    "plt.plot(X, S, color=\"red\",  linewidth=2.5, linestyle=\"-\")"
   ]
  },
  {
   "cell_type": "markdown",
   "metadata": {},
   "source": [
    "### Setting Limits\n",
    "\n",
    "We can set the limits of x axis and y axis."
   ]
  },
  {
   "cell_type": "code",
   "execution_count": null,
   "metadata": {},
   "outputs": [],
   "source": [
    "# no change (*1.1 by default)\n",
    "\n",
    "plt.figure(figsize=(10,6), dpi=80)\n",
    "plt.plot(X, C, color=\"blue\", linewidth=2.5, linestyle=\"-\")\n",
    "plt.plot(X, S, color=\"red\",  linewidth=2.5, linestyle=\"-\")\n",
    "\n",
    "plt.xlim(X.min()*1.1, X.max()*1.1)\n",
    "plt.ylim(C.min()*1.1, C.max()*1.1)"
   ]
  },
  {
   "cell_type": "markdown",
   "metadata": {},
   "source": [
    "### Setting Ticks\n",
    "\n",
    "Current ticks are not ideal because they do not show the interesting values (+/-π,+/-π/2) for sine and cosine. We'll change them such that they show only these values."
   ]
  },
  {
   "cell_type": "code",
   "execution_count": null,
   "metadata": {},
   "outputs": [],
   "source": [
    "plt.figure(figsize=(10,6), dpi=80)\n",
    "plt.plot(X, C, color=\"blue\", linewidth=2.5, linestyle=\"-\")\n",
    "plt.plot(X, S, color=\"red\",  linewidth=2.5, linestyle=\"-\")\n",
    "\n",
    "plt.xticks([-np.pi, -np.pi/2, 0, np.pi/2, np.pi])\n",
    "plt.yticks([-1, 0, +1])"
   ]
  },
  {
   "cell_type": "markdown",
   "metadata": {},
   "source": [
    "### Setting Tick Labels\n",
    "\n",
    "Ticks are now properly placed but their label is not very explicit. We could guess that 3.142 is π but it would be better to make it explicit. \n",
    "\n",
    "When we set tick values, we can also provide a corresponding label in the second argument list. Note that we'll use latex to allow for nice rendering of the label."
   ]
  },
  {
   "cell_type": "code",
   "execution_count": null,
   "metadata": {},
   "outputs": [],
   "source": [
    "plt.figure(figsize=(10,6), dpi=80)\n",
    "plt.plot(X, C, color=\"blue\", linewidth=2.5, linestyle=\"-\")\n",
    "plt.plot(X, S, color=\"red\",  linewidth=2.5, linestyle=\"-\")\n",
    "\n",
    "plt.xticks([-np.pi, -np.pi/2, 0, np.pi/2, np.pi],\n",
    "       [r'$-\\pi$', r'$-\\pi/2$', r'$0$', r'$+\\pi/2$', r'$+\\pi$'])\n",
    "plt.yticks([-1, 0, +1],\n",
    "       [r'$-1$', r'$0$', r'$+1$'])"
   ]
  },
  {
   "cell_type": "markdown",
   "metadata": {},
   "source": [
    "### Moving Spines\n",
    "\n",
    "Spines are the lines connecting the axis tick marks and noting the boundaries of the data area. They can be placed at arbitrary positions and until now, they were on the border of the axis. \n",
    "\n",
    "We'll change that since we want to have them in the middle. Since there are four of them (top/ bottom/ left/ right), we'll discard the top and right by setting their color to none and we'll move the bottom and left ones to coordinate 0 in data space coordinates."
   ]
  },
  {
   "cell_type": "code",
   "execution_count": null,
   "metadata": {},
   "outputs": [],
   "source": [
    "plt.figure(figsize=(10,6), dpi=80)\n",
    "plt.plot(X, C, color=\"blue\", linewidth=2.5, linestyle=\"-\")\n",
    "plt.plot(X, S, color=\"red\",  linewidth=2.5, linestyle=\"-\")\n",
    "plt.xticks([-np.pi, -np.pi/2, 0, np.pi/2, np.pi],\n",
    "       [r'$-\\pi$', r'$-\\pi/2$', r'$0$', r'$+\\pi/2$', r'$+\\pi$'])\n",
    "plt.yticks([-1, 0, +1],\n",
    "       [r'$-1$', r'$0$', r'$+1$'])\n",
    "\n",
    "# get current axes\n",
    "ax = plt.gca()\n",
    "\n",
    "# move spines\n",
    "ax.spines['right'].set_color('none')\n",
    "ax.spines['top'].set_color('none')\n",
    "ax.spines['bottom'].set_position(('data',0))\n",
    "ax.spines['left'].set_position(('data',0))\n",
    "\n",
    "# set ticks position\n",
    "ax.xaxis.set_ticks_position('bottom')\n",
    "ax.yaxis.set_ticks_position('left')"
   ]
  },
  {
   "cell_type": "markdown",
   "metadata": {},
   "source": [
    "### Adding A Legend\n",
    "\n",
    "Let's add a legend in the upper left corner. This only requires adding the keyword argument label (that will be used in the legend box) to the plot commands."
   ]
  },
  {
   "cell_type": "code",
   "execution_count": null,
   "metadata": {},
   "outputs": [],
   "source": [
    "plt.figure(figsize=(10,6), dpi=80)\n",
    "plt.xticks([-np.pi, -np.pi/2, 0, np.pi/2, np.pi],\n",
    "       [r'$-\\pi$', r'$-\\pi/2$', r'$0$', r'$+\\pi/2$', r'$+\\pi$'])\n",
    "plt.yticks([-1, 0, +1],\n",
    "       [r'$-1$', r'$0$', r'$+1$'])\n",
    "ax = plt.gca()\n",
    "ax.spines['right'].set_color('none')\n",
    "ax.spines['top'].set_color('none')\n",
    "ax.spines['bottom'].set_position(('data',0))\n",
    "ax.spines['left'].set_position(('data',0))\n",
    "ax.xaxis.set_ticks_position('bottom')\n",
    "ax.yaxis.set_ticks_position('left')\n",
    "\n",
    "# add a legend with no frame around\n",
    "plt.plot(X, C, color=\"blue\", linewidth=2.5, linestyle=\"-\", label=\"cosine\")\n",
    "plt.plot(X, S, color=\"red\",  linewidth=2.5, linestyle=\"-\", label=\"sine\")\n",
    "\n",
    "plt.legend(loc='upper left', frameon=False)"
   ]
  },
  {
   "cell_type": "markdown",
   "metadata": {},
   "source": [
    "### Annotating some points\n",
    "\n",
    "Let's annotate some interesting points using the annotate command. \n",
    "\n",
    "We chose the 2π/3 value and we want to annotate both the sine and the cosine. \n",
    "\n",
    "We'll first draw a marker on the curve as well as a straight dotted line. Then, we'll use the annotate command to display some text with an arrow."
   ]
  },
  {
   "cell_type": "code",
   "execution_count": null,
   "metadata": {},
   "outputs": [],
   "source": [
    "plt.figure(figsize=(10,6), dpi=80)\n",
    "plt.xticks([-np.pi, -np.pi/2, 0, np.pi/2, np.pi],\n",
    "       [r'$-\\pi$', r'$-\\pi/2$', r'$0$', r'$+\\pi/2$', r'$+\\pi$'])\n",
    "plt.yticks([-1, 0, +1],\n",
    "       [r'$-1$', r'$0$', r'$+1$'])\n",
    "ax = plt.gca()\n",
    "ax.spines['right'].set_color('none')\n",
    "ax.spines['top'].set_color('none')\n",
    "ax.spines['bottom'].set_position(('data',0))\n",
    "ax.spines['left'].set_position(('data',0))\n",
    "ax.xaxis.set_ticks_position('bottom')\n",
    "ax.yaxis.set_ticks_position('left')\n",
    "plt.plot(X, C, color=\"blue\", linewidth=2.5, linestyle=\"-\", label=\"cosine\")\n",
    "plt.plot(X, S, color=\"red\",  linewidth=2.5, linestyle=\"-\", label=\"sine\")\n",
    "plt.legend(loc='upper left', frameon=False)\n",
    "\n",
    "t = 2*np.pi/3\n",
    "# the cosine point\n",
    "# plot the dotted line from x axis\n",
    "plt.plot([t,t],[0,np.cos(t)], color ='blue', linewidth=1.5, linestyle=\"--\")\n",
    "# draw a marker on cosine curve, marker size is 50 \n",
    "plt.scatter([t,],[np.cos(t),], 50, color ='blue')\n",
    "# annotate\n",
    "plt.annotate(r'$\\sin(\\frac{2\\pi}{3})=\\frac{\\sqrt{3}}{2}$',\n",
    "             xy=(t, np.sin(t)), xycoords='data',\n",
    "             xytext=(+10, +30), textcoords='offset points', fontsize=16,\n",
    "             arrowprops=dict(arrowstyle=\"->\", connectionstyle=\"arc3,rad=.2\"))\n",
    "\n",
    "# the sine part\n",
    "# plot the dotted line from x axis\n",
    "plt.plot([t,t],[0,np.sin(t)], color ='red', linewidth=1.5, linestyle=\"--\")\n",
    "# draw a marker on cosine curve, marker size is 50 \n",
    "plt.scatter([t,],[np.sin(t),], 50, color ='red')\n",
    "# annotate\n",
    "plt.annotate(r'$\\cos(\\frac{2\\pi}{3})=-\\frac{1}{2}$',\n",
    "             xy=(t, np.cos(t)), xycoords='data',\n",
    "             xytext=(-90, -50), textcoords='offset points', fontsize=16,\n",
    "             arrowprops=dict(arrowstyle=\"->\", connectionstyle=\"arc3,rad=.2\"))"
   ]
  },
  {
   "cell_type": "markdown",
   "metadata": {},
   "source": [
    "### Render Tick Labels\n",
    "\n",
    "The tick labels are now hardly visible because of the blue and red lines. \n",
    "\n",
    "We can make them bigger and we can also adjust their properties such that they'll be rendered on a semi-transparent white background. This will allow us to see both the data and the labels."
   ]
  },
  {
   "cell_type": "code",
   "execution_count": null,
   "metadata": {},
   "outputs": [],
   "source": [
    "plt.figure(figsize=(10,6), dpi=80)\n",
    "plt.xticks([-np.pi, -np.pi/2, 0, np.pi/2, np.pi],\n",
    "       [r'$-\\pi$', r'$-\\pi/2$', r'$0$', r'$+\\pi/2$', r'$+\\pi$'])\n",
    "plt.yticks([-1, 0, +1],\n",
    "       [r'$-1$', r'$0$', r'$+1$'])\n",
    "ax = plt.gca()\n",
    "ax.spines['right'].set_color('none')\n",
    "ax.spines['top'].set_color('none')\n",
    "ax.spines['bottom'].set_position(('data',0))\n",
    "ax.spines['left'].set_position(('data',0))\n",
    "ax.xaxis.set_ticks_position('bottom')\n",
    "ax.yaxis.set_ticks_position('left')\n",
    "plt.plot(X, C, color=\"blue\", linewidth=2.5, linestyle=\"-\", label=\"cosine\")\n",
    "plt.plot(X, S, color=\"red\",  linewidth=2.5, linestyle=\"-\", label=\"sine\")\n",
    "plt.legend(loc='upper left', frameon=False)\n",
    "t = 2*np.pi/3\n",
    "plt.plot([t,t],[0,np.cos(t)], color ='blue', linewidth=1.5, linestyle=\"--\")\n",
    "plt.scatter([t,],[np.cos(t),], 50, color ='blue')\n",
    "plt.annotate(r'$\\sin(\\frac{2\\pi}{3})=\\frac{\\sqrt{3}}{2}$',\n",
    "             xy=(t, np.sin(t)), xycoords='data',\n",
    "             xytext=(+10, +30), textcoords='offset points', fontsize=16,\n",
    "             arrowprops=dict(arrowstyle=\"->\", connectionstyle=\"arc3,rad=.2\"))\n",
    "plt.plot([t,t],[0,np.sin(t)], color ='red', linewidth=1.5, linestyle=\"--\")\n",
    "plt.scatter([t,],[np.sin(t),], 50, color ='red')\n",
    "plt.annotate(r'$\\cos(\\frac{2\\pi}{3})=-\\frac{1}{2}$',\n",
    "             xy=(t, np.cos(t)), xycoords='data',\n",
    "             xytext=(-90, -50), textcoords='offset points', fontsize=16,\n",
    "             arrowprops=dict(arrowstyle=\"->\", connectionstyle=\"arc3,rad=.2\"))\n",
    "\n",
    "# adjust tick labels\n",
    "for label in ax.get_xticklabels() + ax.get_yticklabels():\n",
    "    # change font size\n",
    "    label.set_fontsize(16)\n",
    "    # adjust transparency alpha - 0 (transparent) to 1 (opaque)\n",
    "    label.set_bbox(dict(facecolor='white', edgecolor='None', alpha=0.5 ))"
   ]
  },
  {
   "cell_type": "markdown",
   "metadata": {},
   "source": [
    "### Challenge - Subplots\n",
    "\n",
    "Now you mastered how to create a single plot, what if you need to present **two plots/ diagrams in a single figure**?"
   ]
  },
  {
   "cell_type": "code",
   "execution_count": null,
   "metadata": {},
   "outputs": [],
   "source": [
    "# Your solution?\n"
   ]
  },
  {
   "cell_type": "markdown",
   "metadata": {},
   "source": [
    "**Hint**: Remember the *\"Xbox One vs. PlayStation 4\"* figure in tutorial 2?\n",
    "\n",
    "![This image](http://jihenghuang.com/wp-content/uploads/2018/03/Xbox-One-vs.-PlayStation-4.png)"
   ]
  }
 ],
 "metadata": {
  "kernelspec": {
   "display_name": "Python 3",
   "language": "python",
   "name": "python3"
  },
  "language_info": {
   "codemirror_mode": {
    "name": "ipython",
    "version": 3
   },
   "file_extension": ".py",
   "mimetype": "text/x-python",
   "name": "python",
   "nbconvert_exporter": "python",
   "pygments_lexer": "ipython3",
   "version": "3.6.4"
  }
 },
 "nbformat": 4,
 "nbformat_minor": 2
}
