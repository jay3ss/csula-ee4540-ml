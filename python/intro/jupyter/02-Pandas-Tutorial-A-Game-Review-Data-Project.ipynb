{
 "cells": [
  {
   "cell_type": "markdown",
   "metadata": {},
   "source": [
    "Reference: https://www.dataquest.io/blog/pandas-python-tutorial/"
   ]
  },
  {
   "cell_type": "markdown",
   "metadata": {},
   "source": [
    "<img src=\"https://pandas.pydata.org/_static/pandas_logo.png\">\n",
    "\n",
    "*pandas* is an open source, BSD-licensed library providing high-performance, easy-to-use data structures and data analysis tools for the Python programming language."
   ]
  },
  {
   "cell_type": "markdown",
   "metadata": {},
   "source": [
    "### Data\n",
    "\n",
    "In this introduction, we'll use Pandas to analyze data on video game reviews from [IGN](http://www.ign.com), a popular video game review site. The data was scraped by [Eric Grinstein](https://www.kaggle.com/egrinstein), and can be found [here](https://www.kaggle.com/egrinstein/20-years-of-games). As we analyze the video game reviews, we'll learn key Pandas concepts like indexing."
   ]
  },
  {
   "cell_type": "markdown",
   "metadata": {},
   "source": [
    "Do games like the Witcher 3 tend to get better reviews on the PS4 than the Xbox One? This dataset can help us find out."
   ]
  },
  {
   "cell_type": "code",
   "execution_count": null,
   "metadata": {},
   "outputs": [],
   "source": [
    "import pandas as pd"
   ]
  },
  {
   "cell_type": "code",
   "execution_count": null,
   "metadata": {},
   "outputs": [],
   "source": [
    "# pandas read in the csv data file and return a DataFrame\n",
    "reviews = pd.read_csv(\"ign.csv\")"
   ]
  },
  {
   "cell_type": "code",
   "execution_count": null,
   "metadata": {},
   "outputs": [],
   "source": [
    "# explore the DataFrame a bit\n",
    "print (reviews.columns)\n",
    "reviews.head()"
   ]
  },
  {
   "cell_type": "code",
   "execution_count": null,
   "metadata": {},
   "outputs": [],
   "source": [
    "# we can also use pandas.DataFrame.tail to print out last 5 rows\n",
    "reviews.tail()"
   ]
  },
  {
   "cell_type": "code",
   "execution_count": null,
   "metadata": {},
   "outputs": [],
   "source": [
    "# check the rows and columns\n",
    "reviews.shape"
   ]
  },
  {
   "cell_type": "markdown",
   "metadata": {},
   "source": [
    "One of the big advantages of Pandas vs just using NumPy is that Pandas allows you to have columns with different data types. *reviews* has columns that store float values, like *score*, string values, like *score_phrase*, and integers, like *release_year*."
   ]
  },
  {
   "cell_type": "markdown",
   "metadata": {},
   "source": [
    "### Indexing Using Positions\n",
    "\n",
    "Earlier, we used the *head* method to print the first 5 rows of *reviews*. We could accomplish the same thing using the **pandas.DataFrame.iloc** method. The *iloc* method allows us to retrieve rows and columns by position."
   ]
  },
  {
   "cell_type": "code",
   "execution_count": null,
   "metadata": {},
   "outputs": [],
   "source": [
    "# this is the same as reviews.head()\n",
    "reviews.iloc[0:5,:]\n",
    "\n",
    "# you can also do this\n",
    "# reviews.iloc[:5, :]\n",
    "\n",
    "# what will happen if I do this?\n",
    "# reviews.iloc[5:, :]"
   ]
  },
  {
   "cell_type": "code",
   "execution_count": null,
   "metadata": {},
   "outputs": [],
   "source": [
    "# remove headers\n",
    "reviews = reviews.iloc[:,1:]\n",
    "reviews.head()"
   ]
  },
  {
   "cell_type": "markdown",
   "metadata": {},
   "source": [
    "### Indexing Using Labels\n",
    "\n",
    "A major advantage of Pandas over NumPy is that each of the columns and rows has a label. We can work with labels using the **pandas.DataFrame.loc** method, which allows us to index using labels instead of positions."
   ]
  },
  {
   "cell_type": "code",
   "execution_count": null,
   "metadata": {},
   "outputs": [],
   "source": [
    "# retrieve columns by label instead of by position\n",
    "reviews.loc[:5,\"score\"]"
   ]
  },
  {
   "cell_type": "code",
   "execution_count": null,
   "metadata": {},
   "outputs": [],
   "source": [
    "# passing a list to retrieve more than one column\n",
    "reviews.loc[:5,[\"score\", \"release_year\"]]"
   ]
  },
  {
   "cell_type": "markdown",
   "metadata": {},
   "source": [
    "### Pandas Series Objects\n",
    "\n",
    "We have a few ways to retrive a column (for example, the second column) now:\n",
    "* *reviews.iloc[:, 1]*\n",
    "* *reviews.loc[:, \"score_phrase\"]*\n",
    "\n",
    "We can just specify the column name in square brackets:"
   ]
  },
  {
   "cell_type": "code",
   "execution_count": null,
   "metadata": {},
   "outputs": [],
   "source": [
    "reviews[\"score_phrase\"][:5]"
   ]
  },
  {
   "cell_type": "code",
   "execution_count": null,
   "metadata": {},
   "outputs": [],
   "source": [
    "reviews[[\"score\", \"release_year\"]][:5]"
   ]
  },
  {
   "cell_type": "markdown",
   "metadata": {},
   "source": [
    "Notice the difference on how the notebook display the results of the two examples above, use *type()* to find out the reason."
   ]
  },
  {
   "cell_type": "code",
   "execution_count": null,
   "metadata": {},
   "outputs": [],
   "source": [
    "print(type(reviews[\"score_phrase\"][:5]))\n",
    "print(type(reviews[[\"score\", \"release_year\"]][:5]))"
   ]
  },
  {
   "cell_type": "markdown",
   "metadata": {},
   "source": [
    "When we retrieve a single column, we're actually retrieving a Pandas Series object. A DataFrame stores tabular data, but a Series stores a single column or row of data."
   ]
  },
  {
   "cell_type": "markdown",
   "metadata": {},
   "source": [
    "We can create a Series manually to better understand how it works. To create a Series, we pass a list or NumPy array into the Series object when we instantiate it:"
   ]
  },
  {
   "cell_type": "code",
   "execution_count": null,
   "metadata": {},
   "outputs": [],
   "source": [
    "s1 = pd.Series([1,2])\n",
    "s1"
   ]
  },
  {
   "cell_type": "markdown",
   "metadata": {},
   "source": [
    "A Series can contain any type of data, including mixed types. Here, we create a Series that contains string objects:"
   ]
  },
  {
   "cell_type": "code",
   "execution_count": null,
   "metadata": {},
   "outputs": [],
   "source": [
    "s2 = pd.Series([3, \"4\"])\n",
    "\n",
    "print(type(s2[0]))\n",
    "print(type(s2[1]))\n",
    "s2"
   ]
  },
  {
   "cell_type": "markdown",
   "metadata": {},
   "source": [
    "### Creating A DataFrame\n",
    "\n",
    "We can create a DataFrame by passing multiple Series into the DataFrame class. Here, we pass in the two Series objects we just created, s1 as the first row, and s2 as the second row:"
   ]
  },
  {
   "cell_type": "code",
   "execution_count": null,
   "metadata": {},
   "outputs": [],
   "source": [
    "pd.DataFrame([s1,s2])"
   ]
  },
  {
   "cell_type": "markdown",
   "metadata": {},
   "source": [
    "We can also accomplish the same thing with a list of lists. Each inner list is treated as a row in the resulting DataFrame:"
   ]
  },
  {
   "cell_type": "code",
   "execution_count": null,
   "metadata": {},
   "outputs": [],
   "source": [
    "pd.DataFrame(\n",
    "    [\n",
    "        [1,2],\n",
    "        [3, \"4\"]\n",
    "    ]\n",
    ")"
   ]
  },
  {
   "cell_type": "markdown",
   "metadata": {},
   "source": [
    "We can specify the column labels when we create a DataFrame:"
   ]
  },
  {
   "cell_type": "code",
   "execution_count": null,
   "metadata": {},
   "outputs": [],
   "source": [
    "pd.DataFrame(\n",
    "    [\n",
    "        [1,2],\n",
    "        [3, \"4\"]\n",
    "    ],\n",
    "    columns=[\"column1\", \"column2\"]\n",
    ")"
   ]
  },
  {
   "cell_type": "markdown",
   "metadata": {},
   "source": [
    "As well as the row labels (the index):"
   ]
  },
  {
   "cell_type": "code",
   "execution_count": null,
   "metadata": {},
   "outputs": [],
   "source": [
    "df = pd.DataFrame(\n",
    "    [\n",
    "        [1,2],\n",
    "        [3, \"4\"]\n",
    "    ],\n",
    "    index=[\"row1\", \"row2\"],\n",
    "    columns=[\"column1\", \"column2\"]\n",
    ")\n",
    "df"
   ]
  },
  {
   "cell_type": "markdown",
   "metadata": {},
   "source": [
    "We're then able index the DataFrame using the labels:"
   ]
  },
  {
   "cell_type": "code",
   "execution_count": null,
   "metadata": {},
   "outputs": [],
   "source": [
    "df.loc[\"row1\":\"row2\", \"column1\"]"
   ]
  },
  {
   "cell_type": "markdown",
   "metadata": {},
   "source": [
    "Here is another way to specify column and row keyword arguments: pass a dictionary. About *dictionary*, you can read more here: https://www.python-course.eu/dictionaries.php"
   ]
  },
  {
   "cell_type": "code",
   "execution_count": null,
   "metadata": {},
   "outputs": [],
   "source": [
    "# note the curly brackets with dictionary\n",
    "\n",
    "df = pd.DataFrame(\n",
    "    {\n",
    "        \"column1\": [1, 3],\n",
    "        \"column2\": [2, \"4\"]\n",
    "    }\n",
    ")\n",
    "df"
   ]
  },
  {
   "cell_type": "markdown",
   "metadata": {},
   "source": [
    "### Pandas DataFrame Methods\n",
    "\n",
    "As we mentioned earlier, each column in a DataFrame is a Series object:"
   ]
  },
  {
   "cell_type": "code",
   "execution_count": null,
   "metadata": {},
   "outputs": [],
   "source": [
    "type(reviews[\"title\"])"
   ]
  },
  {
   "cell_type": "markdown",
   "metadata": {},
   "source": [
    "We can call most of the same methods on a Series object that we can on a DataFrame, including *head*:"
   ]
  },
  {
   "cell_type": "code",
   "execution_count": null,
   "metadata": {},
   "outputs": [],
   "source": [
    "reviews[\"title\"].head()"
   ]
  },
  {
   "cell_type": "markdown",
   "metadata": {},
   "source": [
    "Pandas Series and DataFrames also have other methods that make calculations simpler. For example, we can use the **pandas.Series.mean** method to find the mean of a Series:"
   ]
  },
  {
   "cell_type": "code",
   "execution_count": null,
   "metadata": {},
   "outputs": [],
   "source": [
    "reviews[\"score\"].mean()"
   ]
  },
  {
   "cell_type": "markdown",
   "metadata": {},
   "source": [
    "We can also call the similar **pandas.DataFrame.mean** method, which will find the mean of each numerical column in a DataFrame by default:"
   ]
  },
  {
   "cell_type": "code",
   "execution_count": null,
   "metadata": {},
   "outputs": [],
   "source": [
    "reviews.mean()"
   ]
  },
  {
   "cell_type": "markdown",
   "metadata": {},
   "source": [
    "We can modify the *axis* keyword argument to *mean* in order to compute the mean of each row or of each column. By default, *axis* is equal to 0, and will compute the mean of each column. We can also set it to 1 to compute the mean of each row. Note that this will only compute the mean of the numerical values in each row:"
   ]
  },
  {
   "cell_type": "code",
   "execution_count": null,
   "metadata": {},
   "outputs": [],
   "source": [
    "reviews.mean(axis=1)[:5]"
   ]
  },
  {
   "cell_type": "markdown",
   "metadata": {},
   "source": [
    "There are quite a few methods on Series and DataFrames that behave like *mean*. Here are some handy ones:\n",
    "\n",
    "* *pandas.DataFrame.corr* — finds the correlation between columns in a DataFrame.    \n",
    "\n",
    "\n",
    "* *pandas.DataFrame.count* — counts the number of non-null values in each DataFrame column.    \n",
    "\n",
    "\n",
    "* *pandas.DataFrame.max* — finds the highest value in each column.    \n",
    "\n",
    "\n",
    "* *pandas.DataFrame.min* — finds the lowest value in each column.\n",
    "\n",
    "\n",
    "* *pandas.DataFrame.median* — finds the median of each column.\n",
    "\n",
    "\n",
    "* *pandas.DataFrame.std* — finds the standard deviation of each column."
   ]
  },
  {
   "cell_type": "markdown",
   "metadata": {},
   "source": [
    "We can use the **corr** method to see if any columns correlation with *score*. For instance, this would tell us if games released more recently have been getting higher reviews (*release_year*), or if games released towards the end of the year score better (*release_month*):"
   ]
  },
  {
   "cell_type": "code",
   "execution_count": null,
   "metadata": {},
   "outputs": [],
   "source": [
    "reviews.corr()"
   ]
  },
  {
   "cell_type": "markdown",
   "metadata": {},
   "source": [
    "**How do you interpret the results?**"
   ]
  },
  {
   "cell_type": "markdown",
   "metadata": {},
   "source": []
  },
  {
   "cell_type": "markdown",
   "metadata": {},
   "source": [
    "### DataFrame Math with Pandas\n",
    "\n",
    "We can also perform math operations on Series or DataFrame objects. For example, we can divide every value in the *score* column by 2 to switch the scale from 0-10 to 0-5:"
   ]
  },
  {
   "cell_type": "code",
   "execution_count": null,
   "metadata": {},
   "outputs": [],
   "source": [
    "reviews[\"score\"][:5] / 2"
   ]
  },
  {
   "cell_type": "markdown",
   "metadata": {},
   "source": [
    "All the common mathematical operators that work in Python, like +, -, &ast;, /, and ^ will work, and will apply to each element in a DataFrame or a Series."
   ]
  },
  {
   "cell_type": "markdown",
   "metadata": {},
   "source": [
    "### Boolean Indexing\n",
    "\n",
    "As we saw above, the mean of all the values in the *score* column of *reviews* is around 7. What if we wanted to find all the games that got an above average score? \n",
    "\n",
    "We could start by doing a comparison. The comparison compares each value in a Series to a specified value, then generate a Series full of Boolean values indicating the status of the comparison. \n",
    "\n",
    "For example, we can see which of the rows have a *score* value higher than 7:"
   ]
  },
  {
   "cell_type": "code",
   "execution_count": null,
   "metadata": {},
   "outputs": [],
   "source": [
    "score_filter = reviews[\"score\"] > 7\n",
    "score_filter[:10]"
   ]
  },
  {
   "cell_type": "markdown",
   "metadata": {},
   "source": [
    "Once we have a Boolean Series, we can use it to select only rows in a DataFrame where the Series contains the value *True*. So, we could only select rows in *reviews* where *score* is greater than 7:"
   ]
  },
  {
   "cell_type": "code",
   "execution_count": null,
   "metadata": {},
   "outputs": [],
   "source": [
    "filtered_reviews = reviews[score_filter]\n",
    "filtered_reviews.head()"
   ]
  },
  {
   "cell_type": "markdown",
   "metadata": {},
   "source": [
    "It's possible to use multiple conditions for filtering. Let's say we want to find games released for the *Xbox One* that have a score of more than 7. "
   ]
  },
  {
   "cell_type": "markdown",
   "metadata": {},
   "source": [
    "In the code below, we setup a filter with two conditions:\n",
    "\n",
    "* Check if *score* is greater than 7.\n",
    "* Check if *platform* equals Xbox One"
   ]
  },
  {
   "cell_type": "code",
   "execution_count": null,
   "metadata": {},
   "outputs": [],
   "source": [
    "xbox_one_filter = (reviews[\"score\"] > 7) & (reviews[\"platform\"] == \"Xbox One\")\n",
    "filtered_reviews = reviews[xbox_one_filter]\n",
    "filtered_reviews.head()"
   ]
  },
  {
   "cell_type": "markdown",
   "metadata": {},
   "source": [
    "When filtering with multiple conditions, it's important to put each condition in parentheses, and separate them with a single ampersand (&)."
   ]
  },
  {
   "cell_type": "markdown",
   "metadata": {},
   "source": [
    "### Plotting\n",
    "\n",
    "Now that we know how to filter, we can create plots to observe the review distribution for the *Xbox One* vs the review distribution for the *PlayStation 4*. \n",
    "\n",
    "This will help us figure out which console has better games. \n",
    "\n",
    "We can do this via a **histogram**, which will plot the frequencies for different score ranges. This will tell us which console has more highly reviewed games."
   ]
  },
  {
   "cell_type": "markdown",
   "metadata": {},
   "source": [
    "We can make a histogram for each console using the **pandas.DataFrame.plot** method. This method utilizes *matplotlib*, the popular Python plotting library, under the hood to generate good-looking plots.\n",
    "\n",
    "The *plot* method defaults to drawing a line graph. We'll need to pass in the keyword argument **kind=\"hist\"** to draw a histogram instead."
   ]
  },
  {
   "cell_type": "markdown",
   "metadata": {},
   "source": [
    "In the code below, we:\n",
    "\n",
    "* Call *%matplotlib inline* to set up plotting inside a Jupyter notebook.\n",
    "* Filter *reviews* to only have data about the *Xbox One*.\n",
    "* Plot the *score* column."
   ]
  },
  {
   "cell_type": "code",
   "execution_count": null,
   "metadata": {},
   "outputs": [],
   "source": [
    "import matplotlib.pyplot as plt\n",
    "%matplotlib inline"
   ]
  },
  {
   "cell_type": "code",
   "execution_count": null,
   "metadata": {},
   "outputs": [],
   "source": [
    "reviews[reviews[\"platform\"] == \"Xbox One\"][\"score\"].plot(kind=\"hist\")"
   ]
  },
  {
   "cell_type": "markdown",
   "metadata": {},
   "source": [
    "We can also do the same for the PlayStation 4:"
   ]
  },
  {
   "cell_type": "code",
   "execution_count": null,
   "metadata": {},
   "outputs": [],
   "source": [
    "reviews[reviews[\"platform\"] == \"PlayStation 4\"][\"score\"].plot(kind=\"hist\")"
   ]
  },
  {
   "cell_type": "markdown",
   "metadata": {},
   "source": [
    "**How do we compare them?** Let's have a closer look:"
   ]
  },
  {
   "cell_type": "code",
   "execution_count": null,
   "metadata": {},
   "outputs": [],
   "source": [
    "# setup figure size and title\n",
    "plt.figure(1, figsize = (12, 6))\n",
    "plt.suptitle('Xbox One vs. PlayStation 4')\n",
    "\n",
    "# plot two figures together and set y-axis scale to the same (0 - 100)\n",
    "plt.subplot(121, title = \"Xbox One\", ylim = (0, 100))\n",
    "reviews[reviews[\"platform\"] == \"Xbox One\"][\"score\"].plot(kind=\"hist\")\n",
    "plt.subplot(122, title = \"PlayStation 4\", ylim = (0, 100))\n",
    "reviews[reviews[\"platform\"] == \"PlayStation 4\"][\"score\"].plot(kind=\"hist\")\n",
    "\n",
    "# save the image\n",
    "# plt.savefig('Xbox One vs. PlayStation 4.png')"
   ]
  },
  {
   "cell_type": "markdown",
   "metadata": {},
   "source": [
    "We can also use **hist()** function:"
   ]
  },
  {
   "cell_type": "code",
   "execution_count": null,
   "metadata": {},
   "outputs": [],
   "source": [
    "# check the score distribution of our filtered dataset (score > 7)\n",
    "filtered_reviews[\"score\"].hist()"
   ]
  },
  {
   "cell_type": "markdown",
   "metadata": {},
   "source": [
    "Pandas is a power data structure and analysis library. After analyzing the dataset, **data visualization** libraries will help you present the results. \n",
    "\n",
    "Python has a variety of visualization libraries, including *seaborn*, *networkx*, and *vispy*. \n",
    "\n",
    "Most Python visualization libraries are based wholly or partially on **matplotlib**, which often makes it the first resort for making simple plots, and the last resort for making plots too complex to create in other libraries.\n",
    "\n",
    "We will cover matplotlib in the next tutorial."
   ]
  }
 ],
 "metadata": {
  "kernelspec": {
   "display_name": "Python 3",
   "language": "python",
   "name": "python3"
  },
  "language_info": {
   "codemirror_mode": {
    "name": "ipython",
    "version": 3
   },
   "file_extension": ".py",
   "mimetype": "text/x-python",
   "name": "python",
   "nbconvert_exporter": "python",
   "pygments_lexer": "ipython3",
   "version": "3.6.4"
  }
 },
 "nbformat": 4,
 "nbformat_minor": 2
}
